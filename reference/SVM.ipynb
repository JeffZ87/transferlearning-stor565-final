{
 "cells": [
  {
   "cell_type": "code",
   "execution_count": 9,
   "metadata": {
    "collapsed": true,
    "ExecuteTime": {
     "start_time": "2023-04-13T22:38:23.858617Z",
     "end_time": "2023-04-13T22:38:24.092826Z"
    }
   },
   "outputs": [],
   "source": [
    "import numpy as np\n",
    "import matplotlib.pyplot as plt\n",
    "from sklearn import svm\n",
    "import pandas as pd\n"
   ]
  },
  {
   "cell_type": "code",
   "execution_count": 44,
   "outputs": [
    {
     "name": "stdout",
     "output_type": "stream",
     "text": [
      "(15583,)\n",
      "(15583, 512)\n"
     ]
    }
   ],
   "source": [
    "X = pd.read_csv('../Data/train_features.csv')\n",
    "X = np.array(X)\n",
    "Y = X[:,513]\n",
    "X = X[:,0:512]\n",
    "print(Y.shape)\n",
    "print(X.shape)\n"
   ],
   "metadata": {
    "collapsed": false,
    "ExecuteTime": {
     "start_time": "2023-04-13T22:47:18.170707Z",
     "end_time": "2023-04-13T22:47:18.716466Z"
    }
   }
  },
  {
   "cell_type": "code",
   "execution_count": 42,
   "outputs": [
    {
     "name": "stdout",
     "output_type": "stream",
     "text": [
      "(300, 2)\n",
      "(300,)\n"
     ]
    }
   ],
   "source": [
    "# xx, yy = np.meshgrid(np.linspace(-3, 3, 500), np.linspace(-3, 3, 500))\n",
    "# np.random.seed(0)\n",
    "# X = np.random.randn(300, 2)\n",
    "# print(X.shape)\n",
    "# Y = np.logical_xor(X[:, 0] > 0, X[:, 1] > 0)\n",
    "# print(Y.shape)"
   ],
   "metadata": {
    "collapsed": false,
    "ExecuteTime": {
     "start_time": "2023-04-13T22:46:34.275298Z",
     "end_time": "2023-04-13T22:46:34.288876Z"
    }
   }
  },
  {
   "cell_type": "code",
   "execution_count": 46,
   "outputs": [],
   "source": [
    "# fit the model\n",
    "clf = svm.NuSVC(gamma=\"auto\").fit(X, Y)"
   ],
   "metadata": {
    "collapsed": false,
    "ExecuteTime": {
     "start_time": "2023-04-13T22:50:14.228835Z",
     "end_time": "2023-04-13T22:52:23.411816Z"
    }
   }
  },
  {
   "cell_type": "code",
   "execution_count": 63,
   "outputs": [],
   "source": [
    "X_test = pd.read_csv('../Data/test_features.csv')\n",
    "X_test = np.array(X_test)\n",
    "Y_test = X_test[:,513]\n",
    "X_test = X_test[:,0:512]\n",
    "# print(Y_test.shape)\n",
    "# print(X_test.shape)\n",
    "outputs = clf.predict(X_test)\n",
    "test = np.sum(outputs == Y_test)\n"
   ],
   "metadata": {
    "collapsed": false,
    "ExecuteTime": {
     "start_time": "2023-04-13T23:07:27.192529Z",
     "end_time": "2023-04-13T23:07:35.870033Z"
    }
   }
  },
  {
   "cell_type": "code",
   "execution_count": 65,
   "outputs": [
    {
     "name": "stdout",
     "output_type": "stream",
     "text": [
      "0.5657209033005212\n"
     ]
    }
   ],
   "source": [
    "print(test/len(Y_test))"
   ],
   "metadata": {
    "collapsed": false,
    "ExecuteTime": {
     "start_time": "2023-04-13T23:08:14.567869Z",
     "end_time": "2023-04-13T23:08:14.580193Z"
    }
   }
  }
 ],
 "metadata": {
  "kernelspec": {
   "display_name": "Python 3",
   "language": "python",
   "name": "python3"
  },
  "language_info": {
   "codemirror_mode": {
    "name": "ipython",
    "version": 2
   },
   "file_extension": ".py",
   "mimetype": "text/x-python",
   "name": "python",
   "nbconvert_exporter": "python",
   "pygments_lexer": "ipython2",
   "version": "2.7.6"
  }
 },
 "nbformat": 4,
 "nbformat_minor": 0
}
