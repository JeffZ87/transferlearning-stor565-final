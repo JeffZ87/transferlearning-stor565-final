{
 "cells": [
  {
   "cell_type": "code",
   "execution_count": 49,
   "metadata": {
    "ExecuteTime": {
     "end_time": "2023-04-13T21:45:39.060965Z",
     "start_time": "2023-04-13T21:45:39.051260Z"
    },
    "collapsed": true
   },
   "outputs": [],
   "source": [
    "import torch\n",
    "import torchvision.models as models\n",
    "import torchvision\n",
    "from torchvision import datasets, models, transforms\n",
    "import torch.nn as nn\n",
    "import torch.optim as optim\n",
    "from torch.optim import lr_scheduler\n",
    "from torchvision.models import ResNet18_Weights\n",
    "from torch.utils.data import DataLoader\n",
    "from tqdm import tqdm\n",
    "import numpy as np\n",
    "import pandas as pd\n",
    "from sklearn import svm\n",
    "import ssl\n",
    "import matplotlib.pyplot as plt\n",
    "import os\n",
    "import copy\n",
    "import csv\n",
    "ssl._create_default_https_context = ssl._create_unverified_context"
   ]
  },
  {
   "cell_type": "code",
   "execution_count": 50,
   "metadata": {
    "ExecuteTime": {
     "end_time": "2023-04-13T21:45:40.494609Z",
     "start_time": "2023-04-13T21:45:40.422864Z"
    },
    "collapsed": false
   },
   "outputs": [],
   "source": [
    "transform = transforms.Compose([\n",
    "    transforms.Resize((224, 224)),\n",
    "    transforms.ToTensor(),\n",
    "    transforms.Normalize(\n",
    "        mean=[0.485, 0.456, 0.406],\n",
    "        std=[0.229, 0.224, 0.225],\n",
    "    ),\n",
    "    transforms.RandomHorizontalFlip(),\n",
    "    transforms.RandomVerticalFlip(),\n",
    "])\n",
    "\n",
    "device = torch.device(\"cuda:0\" if torch.cuda.is_available() else \"cpu\")\n",
    "train_dataset = datasets.ImageFolder('../Data/train', transform=transform)\n",
    "test_dataset = datasets.ImageFolder('../Data/test', transform=transform)\n",
    "train_dataloader = torch.utils.data.DataLoader(train_dataset, batch_size=1, shuffle=True)\n",
    "test_dataloader = torch.utils.data.DataLoader(test_dataset, batch_size=1, shuffle=False)\n",
    "# dataset_sizes = {'train': len(train_dataset), 'test': len(test_dataset)}"
   ]
  },
  {
   "cell_type": "code",
   "execution_count": 54,
   "metadata": {
    "ExecuteTime": {
     "end_time": "2023-04-13T21:56:16.182536Z",
     "start_time": "2023-04-13T21:51:30.312669Z"
    },
    "collapsed": false
   },
   "outputs": [
    {
     "name": "stderr",
     "output_type": "stream",
     "text": [
      "/Users/shanw25/opt/anaconda3/lib/python3.9/site-packages/torchvision/models/_utils.py:135: UserWarning: Using 'weights' as positional parameter(s) is deprecated since 0.13 and may be removed in the future. Please use keyword parameter(s) instead.\n",
      "  warnings.warn(\n"
     ]
    },
    {
     "name": "stdout",
     "output_type": "stream",
     "text": [
      "finished\n"
     ]
    }
   ],
   "source": [
    "resnet18 = models.resnet18(ResNet18_Weights.DEFAULT)\n",
    "model_test = list(resnet18.children())[:-1]\n",
    "model = nn.Sequential(*model_test).to(device)\n",
    "model.eval()\n",
    "model.to(device)\n",
    "isInit = True\n",
    "with torch.no_grad():\n",
    "    for image, label in train_dataloader:\n",
    "        image.to(device)\n",
    "        label.to(device)\n",
    "        output = model(image)\n",
    "        output = output[0].view(-1, 1)\n",
    "        label = label.view(-1, 1)\n",
    "        test = torch.cat((output, label))\n",
    "        test = test.view(1, -1)\n",
    "        bb = test.numpy()\n",
    "        cc = pd.DataFrame(bb)\n",
    "        cc.to_csv('../Data/train_features.csv', mode='a', header=isInit)\n",
    "        isInit = False\n",
    "\n",
    "print('finished')"
   ]
  }
 ],
 "metadata": {
  "kernelspec": {
   "display_name": "Python 3",
   "language": "python",
   "name": "python3"
  },
  "language_info": {
   "codemirror_mode": {
    "name": "ipython",
    "version": 2
   },
   "file_extension": ".py",
   "mimetype": "text/x-python",
   "name": "python",
   "nbconvert_exporter": "python",
   "pygments_lexer": "ipython2",
   "version": "2.7.6"
  }
 },
 "nbformat": 4,
 "nbformat_minor": 0
}
